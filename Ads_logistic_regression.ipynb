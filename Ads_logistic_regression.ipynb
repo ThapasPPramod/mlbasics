{
  "nbformat": 4,
  "nbformat_minor": 0,
  "metadata": {
    "colab": {
      "provenance": [],
      "gpuType": "T4"
    },
    "kernelspec": {
      "name": "python3",
      "display_name": "Python 3"
    }
  },
  "cells": [
    {
      "cell_type": "markdown",
      "metadata": {
        "id": "0MRC0e0KhQ0S"
      },
      "source": [
        "# Logistic Regression"
      ]
    },
    {
      "cell_type": "markdown",
      "metadata": {
        "id": "LWd1UlMnhT2s"
      },
      "source": [
        "## Importing the libraries"
      ]
    },
    {
      "cell_type": "code",
      "source": [
        "import numpy as np\n",
        "import pandas as pd\n",
        "import matplotlib.pyplot as plt"
      ],
      "metadata": {
        "id": "Q_lqbVqBNOYE"
      },
      "execution_count": 1,
      "outputs": []
    },
    {
      "cell_type": "markdown",
      "metadata": {
        "id": "K1VMqkGvhc3-"
      },
      "source": [
        "## Importing the dataset"
      ]
    },
    {
      "cell_type": "code",
      "source": [
        "dataset = pd.read_csv('Social_Network_Ads.csv')\n",
        "X = dataset.iloc[:, :-1].values\n",
        "y = dataset.iloc[:,-1].values"
      ],
      "metadata": {
        "id": "uBa1KDvlNbGk"
      },
      "execution_count": 2,
      "outputs": []
    },
    {
      "cell_type": "markdown",
      "metadata": {
        "id": "YvxIPVyMhmKp"
      },
      "source": [
        "## Splitting the dataset into the Training set and Test set"
      ]
    },
    {
      "cell_type": "code",
      "source": [
        "from sklearn.model_selection import train_test_split\n",
        "x_train, x_test, y_train, y_test = train_test_split(X, y, test_size = 0.25, random_state = 0)"
      ],
      "metadata": {
        "id": "jDGrxCXpOX3K"
      },
      "execution_count": 3,
      "outputs": []
    },
    {
      "cell_type": "markdown",
      "metadata": {
        "id": "kW3c7UYih0hT"
      },
      "source": [
        "## Feature Scaling"
      ]
    },
    {
      "cell_type": "code",
      "source": [
        "from sklearn.preprocessing import StandardScaler\n",
        "sc = StandardScaler()\n",
        "x_train = sc.fit_transform(x_train)\n",
        "x_test = sc.fit_transform(x_test)"
      ],
      "metadata": {
        "id": "lmhYF90dOyHA"
      },
      "execution_count": 4,
      "outputs": []
    },
    {
      "cell_type": "code",
      "source": [
        "x_train"
      ],
      "metadata": {
        "colab": {
          "base_uri": "https://localhost:8080/"
        },
        "id": "pyV8pzTEQaEK",
        "outputId": "2e2e0dde-44ba-49e2-acee-993574ec0aee"
      },
      "execution_count": 5,
      "outputs": [
        {
          "output_type": "execute_result",
          "data": {
            "text/plain": [
              "array([[ 0.58164944, -0.88670699],\n",
              "       [-0.60673761,  1.46173768],\n",
              "       [-0.01254409, -0.5677824 ],\n",
              "       [-0.60673761,  1.89663484],\n",
              "       [ 1.37390747, -1.40858358],\n",
              "       [ 1.47293972,  0.99784738],\n",
              "       [ 0.08648817, -0.79972756],\n",
              "       [-0.01254409, -0.24885782],\n",
              "       [-0.21060859, -0.5677824 ],\n",
              "       [-0.21060859, -0.19087153],\n",
              "       [-0.30964085, -1.29261101],\n",
              "       [-0.30964085, -0.5677824 ],\n",
              "       [ 0.38358493,  0.09905991],\n",
              "       [ 0.8787462 , -0.59677555],\n",
              "       [ 2.06713324, -1.17663843],\n",
              "       [ 1.07681071, -0.13288524],\n",
              "       [ 0.68068169,  1.78066227],\n",
              "       [-0.70576986,  0.56295021],\n",
              "       [ 0.77971394,  0.35999821],\n",
              "       [ 0.8787462 , -0.53878926],\n",
              "       [-1.20093113, -1.58254245],\n",
              "       [ 2.1661655 ,  0.93986109],\n",
              "       [-0.01254409,  1.22979253],\n",
              "       [ 0.18552042,  1.08482681],\n",
              "       [ 0.38358493, -0.48080297],\n",
              "       [-0.30964085, -0.30684411],\n",
              "       [ 0.97777845, -0.8287207 ],\n",
              "       [ 0.97777845,  1.8676417 ],\n",
              "       [-0.01254409,  1.25878567],\n",
              "       [-0.90383437,  2.27354572],\n",
              "       [-1.20093113, -1.58254245],\n",
              "       [ 2.1661655 , -0.79972756],\n",
              "       [-1.39899564, -1.46656987],\n",
              "       [ 0.38358493,  2.30253886],\n",
              "       [ 0.77971394,  0.76590222],\n",
              "       [-1.00286662, -0.30684411],\n",
              "       [ 0.08648817,  0.76590222],\n",
              "       [-1.00286662,  0.56295021],\n",
              "       [ 0.28455268,  0.07006676],\n",
              "       [ 0.68068169, -1.26361786],\n",
              "       [-0.50770535, -0.01691267],\n",
              "       [-1.79512465,  0.35999821],\n",
              "       [-0.70576986,  0.12805305],\n",
              "       [ 0.38358493,  0.30201192],\n",
              "       [-0.30964085,  0.07006676],\n",
              "       [-0.50770535,  2.30253886],\n",
              "       [ 0.18552042,  0.04107362],\n",
              "       [ 1.27487521,  2.21555943],\n",
              "       [ 0.77971394,  0.27301877],\n",
              "       [-0.30964085,  0.1570462 ],\n",
              "       [-0.01254409, -0.53878926],\n",
              "       [-0.21060859,  0.1570462 ],\n",
              "       [-0.11157634,  0.24402563],\n",
              "       [-0.01254409, -0.24885782],\n",
              "       [ 2.1661655 ,  1.11381995],\n",
              "       [-1.79512465,  0.35999821],\n",
              "       [ 1.86906873,  0.12805305],\n",
              "       [ 0.38358493, -0.13288524],\n",
              "       [-1.20093113,  0.30201192],\n",
              "       [ 0.77971394,  1.37475825],\n",
              "       [-0.30964085, -0.24885782],\n",
              "       [-1.6960924 , -0.04590581],\n",
              "       [-1.00286662, -0.74174127],\n",
              "       [ 0.28455268,  0.50496393],\n",
              "       [-0.11157634, -1.06066585],\n",
              "       [-1.10189888,  0.59194336],\n",
              "       [ 0.08648817, -0.79972756],\n",
              "       [-1.00286662,  1.54871711],\n",
              "       [-0.70576986,  1.40375139],\n",
              "       [-1.29996338,  0.50496393],\n",
              "       [-0.30964085,  0.04107362],\n",
              "       [-0.11157634,  0.01208048],\n",
              "       [-0.30964085, -0.88670699],\n",
              "       [ 0.8787462 , -1.3505973 ],\n",
              "       [-0.30964085,  2.24455257],\n",
              "       [ 0.97777845,  1.98361427],\n",
              "       [-1.20093113,  0.47597078],\n",
              "       [-1.29996338,  0.27301877],\n",
              "       [ 1.37390747,  1.98361427],\n",
              "       [ 1.27487521, -1.3505973 ],\n",
              "       [-0.30964085, -0.27785096],\n",
              "       [-0.50770535,  1.25878567],\n",
              "       [-0.80480212,  1.08482681],\n",
              "       [ 0.97777845, -1.06066585],\n",
              "       [ 0.28455268,  0.30201192],\n",
              "       [ 0.97777845,  0.76590222],\n",
              "       [-0.70576986, -1.49556302],\n",
              "       [-0.70576986,  0.04107362],\n",
              "       [ 0.48261718,  1.72267598],\n",
              "       [ 2.06713324,  0.18603934],\n",
              "       [-1.99318916, -0.74174127],\n",
              "       [-0.21060859,  1.40375139],\n",
              "       [ 0.38358493,  0.59194336],\n",
              "       [ 0.8787462 , -1.14764529],\n",
              "       [-1.20093113, -0.77073441],\n",
              "       [ 0.18552042,  0.24402563],\n",
              "       [ 0.77971394, -0.30684411],\n",
              "       [ 2.06713324, -0.79972756],\n",
              "       [ 0.77971394,  0.12805305],\n",
              "       [-0.30964085,  0.6209365 ],\n",
              "       [-1.00286662, -0.30684411],\n",
              "       [ 0.18552042, -0.3648304 ],\n",
              "       [ 2.06713324,  2.12857999],\n",
              "       [ 1.86906873, -1.26361786],\n",
              "       [ 1.37390747, -0.91570013],\n",
              "       [ 0.8787462 ,  1.25878567],\n",
              "       [ 1.47293972,  2.12857999],\n",
              "       [-0.30964085, -1.23462472],\n",
              "       [ 1.96810099,  0.91086794],\n",
              "       [ 0.68068169, -0.71274813],\n",
              "       [-1.49802789,  0.35999821],\n",
              "       [ 0.77971394, -1.3505973 ],\n",
              "       [ 0.38358493, -0.13288524],\n",
              "       [-1.00286662,  0.41798449],\n",
              "       [-0.01254409, -0.30684411],\n",
              "       [-1.20093113,  0.41798449],\n",
              "       [-0.90383437, -1.20563157],\n",
              "       [-0.11157634,  0.04107362],\n",
              "       [-1.59706014, -0.42281668],\n",
              "       [ 0.97777845, -1.00267957],\n",
              "       [ 1.07681071, -1.20563157],\n",
              "       [-0.01254409, -0.13288524],\n",
              "       [-1.10189888, -1.52455616],\n",
              "       [ 0.77971394, -1.20563157],\n",
              "       [ 0.97777845,  2.07059371],\n",
              "       [-1.20093113, -1.52455616],\n",
              "       [-0.30964085,  0.79489537],\n",
              "       [ 0.08648817, -0.30684411],\n",
              "       [-1.39899564, -1.23462472],\n",
              "       [-0.60673761, -1.49556302],\n",
              "       [ 0.77971394,  0.53395707],\n",
              "       [-0.30964085, -0.33583725],\n",
              "       [ 1.77003648, -0.27785096],\n",
              "       [ 0.8787462 , -1.03167271],\n",
              "       [ 0.18552042,  0.07006676],\n",
              "       [-0.60673761,  0.8818748 ],\n",
              "       [-1.89415691, -1.40858358],\n",
              "       [-1.29996338,  0.59194336],\n",
              "       [-0.30964085,  0.53395707],\n",
              "       [-1.00286662, -1.089659  ],\n",
              "       [ 1.17584296, -1.43757673],\n",
              "       [ 0.18552042, -0.30684411],\n",
              "       [ 1.17584296, -0.74174127],\n",
              "       [-0.30964085,  0.07006676],\n",
              "       [ 0.18552042,  2.09958685],\n",
              "       [ 0.77971394, -1.089659  ],\n",
              "       [ 0.08648817,  0.04107362],\n",
              "       [-1.79512465,  0.12805305],\n",
              "       [-0.90383437,  0.1570462 ],\n",
              "       [-0.70576986,  0.18603934],\n",
              "       [ 0.8787462 , -1.29261101],\n",
              "       [ 0.18552042, -0.24885782],\n",
              "       [-0.4086731 ,  1.22979253],\n",
              "       [-0.01254409,  0.30201192],\n",
              "       [ 0.38358493,  0.1570462 ],\n",
              "       [ 0.8787462 , -0.65476184],\n",
              "       [ 0.08648817,  0.1570462 ],\n",
              "       [-1.89415691, -1.29261101],\n",
              "       [-0.11157634,  0.30201192],\n",
              "       [-0.21060859, -0.27785096],\n",
              "       [ 0.28455268, -0.50979612],\n",
              "       [-0.21060859,  1.6067034 ],\n",
              "       [ 0.97777845, -1.17663843],\n",
              "       [-0.21060859,  1.63569655],\n",
              "       [ 1.27487521,  1.8676417 ],\n",
              "       [-1.10189888, -0.3648304 ],\n",
              "       [-0.01254409,  0.04107362],\n",
              "       [ 0.08648817, -0.24885782],\n",
              "       [-1.59706014, -1.23462472],\n",
              "       [-0.50770535, -0.27785096],\n",
              "       [ 0.97777845,  0.12805305],\n",
              "       [ 1.96810099, -1.3505973 ],\n",
              "       [ 1.47293972,  0.07006676],\n",
              "       [-0.60673761,  1.37475825],\n",
              "       [ 1.57197197,  0.01208048],\n",
              "       [-0.80480212,  0.30201192],\n",
              "       [ 1.96810099,  0.73690908],\n",
              "       [-1.20093113, -0.50979612],\n",
              "       [ 0.68068169,  0.27301877],\n",
              "       [-1.39899564, -0.42281668],\n",
              "       [ 0.18552042,  0.1570462 ],\n",
              "       [-0.50770535, -1.20563157],\n",
              "       [ 0.58164944,  2.01260742],\n",
              "       [-1.59706014, -1.49556302],\n",
              "       [-0.50770535, -0.53878926],\n",
              "       [ 0.48261718,  1.83864855],\n",
              "       [-1.39899564, -1.089659  ],\n",
              "       [ 0.77971394, -1.37959044],\n",
              "       [-0.30964085, -0.42281668],\n",
              "       [ 1.57197197,  0.99784738],\n",
              "       [ 0.97777845,  1.43274454],\n",
              "       [-0.30964085, -0.48080297],\n",
              "       [-0.11157634,  2.15757314],\n",
              "       [-1.49802789, -0.1038921 ],\n",
              "       [-0.11157634,  1.95462113],\n",
              "       [-0.70576986, -0.33583725],\n",
              "       [-0.50770535, -0.8287207 ],\n",
              "       [ 0.68068169, -1.37959044],\n",
              "       [-0.80480212, -1.58254245],\n",
              "       [-1.89415691, -1.46656987],\n",
              "       [ 1.07681071,  0.12805305],\n",
              "       [ 0.08648817,  1.51972397],\n",
              "       [-0.30964085,  0.09905991],\n",
              "       [ 0.08648817,  0.04107362],\n",
              "       [-1.39899564, -1.3505973 ],\n",
              "       [ 0.28455268,  0.07006676],\n",
              "       [-0.90383437,  0.38899135],\n",
              "       [ 1.57197197, -1.26361786],\n",
              "       [-0.30964085, -0.74174127],\n",
              "       [-0.11157634,  0.1570462 ],\n",
              "       [-0.90383437, -0.65476184],\n",
              "       [-0.70576986, -0.04590581],\n",
              "       [ 0.38358493, -0.45180983],\n",
              "       [-0.80480212,  1.89663484],\n",
              "       [ 1.37390747,  1.28777882],\n",
              "       [ 1.17584296, -0.97368642],\n",
              "       [ 1.77003648,  1.83864855],\n",
              "       [-0.90383437, -0.24885782],\n",
              "       [-0.80480212,  0.56295021],\n",
              "       [-1.20093113, -1.5535493 ],\n",
              "       [-0.50770535, -1.11865214],\n",
              "       [ 0.28455268,  0.07006676],\n",
              "       [-0.21060859, -1.06066585],\n",
              "       [ 1.67100423,  1.6067034 ],\n",
              "       [ 0.97777845,  1.78066227],\n",
              "       [ 0.28455268,  0.04107362],\n",
              "       [-0.80480212, -0.21986468],\n",
              "       [-0.11157634,  0.07006676],\n",
              "       [ 0.28455268, -0.19087153],\n",
              "       [ 1.96810099, -0.65476184],\n",
              "       [-0.80480212,  1.3457651 ],\n",
              "       [-1.79512465, -0.59677555],\n",
              "       [-0.11157634,  0.12805305],\n",
              "       [ 0.28455268, -0.30684411],\n",
              "       [ 1.07681071,  0.56295021],\n",
              "       [-1.00286662,  0.27301877],\n",
              "       [ 1.47293972,  0.35999821],\n",
              "       [ 0.18552042, -0.3648304 ],\n",
              "       [ 2.1661655 , -1.03167271],\n",
              "       [-0.30964085,  1.11381995],\n",
              "       [-1.6960924 ,  0.07006676],\n",
              "       [-0.01254409,  0.04107362],\n",
              "       [ 0.08648817,  1.05583366],\n",
              "       [-0.11157634, -0.3648304 ],\n",
              "       [-1.20093113,  0.07006676],\n",
              "       [-0.30964085, -1.3505973 ],\n",
              "       [ 1.57197197,  1.11381995],\n",
              "       [-0.80480212, -1.52455616],\n",
              "       [ 0.08648817,  1.8676417 ],\n",
              "       [-0.90383437, -0.77073441],\n",
              "       [-0.50770535, -0.77073441],\n",
              "       [-0.30964085, -0.91570013],\n",
              "       [ 0.28455268, -0.71274813],\n",
              "       [ 0.28455268,  0.07006676],\n",
              "       [ 0.08648817,  1.8676417 ],\n",
              "       [-1.10189888,  1.95462113],\n",
              "       [-1.6960924 , -1.5535493 ],\n",
              "       [-1.20093113, -1.089659  ],\n",
              "       [-0.70576986, -0.1038921 ],\n",
              "       [ 0.08648817,  0.09905991],\n",
              "       [ 0.28455268,  0.27301877],\n",
              "       [ 0.8787462 , -0.5677824 ],\n",
              "       [ 0.28455268, -1.14764529],\n",
              "       [-0.11157634,  0.67892279],\n",
              "       [ 2.1661655 , -0.68375498],\n",
              "       [-1.29996338, -1.37959044],\n",
              "       [-1.00286662, -0.94469328],\n",
              "       [-0.01254409, -0.42281668],\n",
              "       [-0.21060859, -0.45180983],\n",
              "       [-1.79512465, -0.97368642],\n",
              "       [ 1.77003648,  0.99784738],\n",
              "       [ 0.18552042, -0.3648304 ],\n",
              "       [ 0.38358493,  1.11381995],\n",
              "       [-1.79512465, -1.3505973 ],\n",
              "       [ 0.18552042, -0.13288524],\n",
              "       [ 0.8787462 , -1.43757673],\n",
              "       [-1.99318916,  0.47597078],\n",
              "       [-0.30964085,  0.27301877],\n",
              "       [ 1.86906873, -1.06066585],\n",
              "       [-0.4086731 ,  0.07006676],\n",
              "       [ 1.07681071, -0.88670699],\n",
              "       [-1.10189888, -1.11865214],\n",
              "       [-1.89415691,  0.01208048],\n",
              "       [ 0.08648817,  0.27301877],\n",
              "       [-1.20093113,  0.33100506],\n",
              "       [-1.29996338,  0.30201192],\n",
              "       [-1.00286662,  0.44697764],\n",
              "       [ 1.67100423, -0.88670699],\n",
              "       [ 1.17584296,  0.53395707],\n",
              "       [ 1.07681071,  0.53395707],\n",
              "       [ 1.37390747,  2.331532  ],\n",
              "       [-0.30964085, -0.13288524],\n",
              "       [ 0.38358493, -0.45180983],\n",
              "       [-0.4086731 , -0.77073441],\n",
              "       [-0.11157634, -0.50979612],\n",
              "       [ 0.97777845, -1.14764529],\n",
              "       [-0.90383437, -0.77073441],\n",
              "       [-0.21060859, -0.50979612],\n",
              "       [-1.10189888, -0.45180983],\n",
              "       [-1.20093113,  1.40375139]])"
            ]
          },
          "metadata": {},
          "execution_count": 5
        }
      ]
    },
    {
      "cell_type": "markdown",
      "metadata": {
        "id": "bb6jCOCQiAmP"
      },
      "source": [
        "## Training the Logistic Regression model on the Training set"
      ]
    },
    {
      "cell_type": "code",
      "source": [
        "from sklearn.linear_model import LogisticRegression\n",
        "classifier = LogisticRegression(random_state = 0)\n",
        "classifier.fit(x_train, y_train)"
      ],
      "metadata": {
        "colab": {
          "base_uri": "https://localhost:8080/",
          "height": 74
        },
        "id": "OiOjH84CRyOP",
        "outputId": "686bc390-9758-4ffd-dd69-193a63a9902d"
      },
      "execution_count": 6,
      "outputs": [
        {
          "output_type": "execute_result",
          "data": {
            "text/plain": [
              "LogisticRegression(random_state=0)"
            ],
            "text/html": [
              "<style>#sk-container-id-1 {color: black;background-color: white;}#sk-container-id-1 pre{padding: 0;}#sk-container-id-1 div.sk-toggleable {background-color: white;}#sk-container-id-1 label.sk-toggleable__label {cursor: pointer;display: block;width: 100%;margin-bottom: 0;padding: 0.3em;box-sizing: border-box;text-align: center;}#sk-container-id-1 label.sk-toggleable__label-arrow:before {content: \"▸\";float: left;margin-right: 0.25em;color: #696969;}#sk-container-id-1 label.sk-toggleable__label-arrow:hover:before {color: black;}#sk-container-id-1 div.sk-estimator:hover label.sk-toggleable__label-arrow:before {color: black;}#sk-container-id-1 div.sk-toggleable__content {max-height: 0;max-width: 0;overflow: hidden;text-align: left;background-color: #f0f8ff;}#sk-container-id-1 div.sk-toggleable__content pre {margin: 0.2em;color: black;border-radius: 0.25em;background-color: #f0f8ff;}#sk-container-id-1 input.sk-toggleable__control:checked~div.sk-toggleable__content {max-height: 200px;max-width: 100%;overflow: auto;}#sk-container-id-1 input.sk-toggleable__control:checked~label.sk-toggleable__label-arrow:before {content: \"▾\";}#sk-container-id-1 div.sk-estimator input.sk-toggleable__control:checked~label.sk-toggleable__label {background-color: #d4ebff;}#sk-container-id-1 div.sk-label input.sk-toggleable__control:checked~label.sk-toggleable__label {background-color: #d4ebff;}#sk-container-id-1 input.sk-hidden--visually {border: 0;clip: rect(1px 1px 1px 1px);clip: rect(1px, 1px, 1px, 1px);height: 1px;margin: -1px;overflow: hidden;padding: 0;position: absolute;width: 1px;}#sk-container-id-1 div.sk-estimator {font-family: monospace;background-color: #f0f8ff;border: 1px dotted black;border-radius: 0.25em;box-sizing: border-box;margin-bottom: 0.5em;}#sk-container-id-1 div.sk-estimator:hover {background-color: #d4ebff;}#sk-container-id-1 div.sk-parallel-item::after {content: \"\";width: 100%;border-bottom: 1px solid gray;flex-grow: 1;}#sk-container-id-1 div.sk-label:hover label.sk-toggleable__label {background-color: #d4ebff;}#sk-container-id-1 div.sk-serial::before {content: \"\";position: absolute;border-left: 1px solid gray;box-sizing: border-box;top: 0;bottom: 0;left: 50%;z-index: 0;}#sk-container-id-1 div.sk-serial {display: flex;flex-direction: column;align-items: center;background-color: white;padding-right: 0.2em;padding-left: 0.2em;position: relative;}#sk-container-id-1 div.sk-item {position: relative;z-index: 1;}#sk-container-id-1 div.sk-parallel {display: flex;align-items: stretch;justify-content: center;background-color: white;position: relative;}#sk-container-id-1 div.sk-item::before, #sk-container-id-1 div.sk-parallel-item::before {content: \"\";position: absolute;border-left: 1px solid gray;box-sizing: border-box;top: 0;bottom: 0;left: 50%;z-index: -1;}#sk-container-id-1 div.sk-parallel-item {display: flex;flex-direction: column;z-index: 1;position: relative;background-color: white;}#sk-container-id-1 div.sk-parallel-item:first-child::after {align-self: flex-end;width: 50%;}#sk-container-id-1 div.sk-parallel-item:last-child::after {align-self: flex-start;width: 50%;}#sk-container-id-1 div.sk-parallel-item:only-child::after {width: 0;}#sk-container-id-1 div.sk-dashed-wrapped {border: 1px dashed gray;margin: 0 0.4em 0.5em 0.4em;box-sizing: border-box;padding-bottom: 0.4em;background-color: white;}#sk-container-id-1 div.sk-label label {font-family: monospace;font-weight: bold;display: inline-block;line-height: 1.2em;}#sk-container-id-1 div.sk-label-container {text-align: center;}#sk-container-id-1 div.sk-container {/* jupyter's `normalize.less` sets `[hidden] { display: none; }` but bootstrap.min.css set `[hidden] { display: none !important; }` so we also need the `!important` here to be able to override the default hidden behavior on the sphinx rendered scikit-learn.org. See: https://github.com/scikit-learn/scikit-learn/issues/21755 */display: inline-block !important;position: relative;}#sk-container-id-1 div.sk-text-repr-fallback {display: none;}</style><div id=\"sk-container-id-1\" class=\"sk-top-container\"><div class=\"sk-text-repr-fallback\"><pre>LogisticRegression(random_state=0)</pre><b>In a Jupyter environment, please rerun this cell to show the HTML representation or trust the notebook. <br />On GitHub, the HTML representation is unable to render, please try loading this page with nbviewer.org.</b></div><div class=\"sk-container\" hidden><div class=\"sk-item\"><div class=\"sk-estimator sk-toggleable\"><input class=\"sk-toggleable__control sk-hidden--visually\" id=\"sk-estimator-id-1\" type=\"checkbox\" checked><label for=\"sk-estimator-id-1\" class=\"sk-toggleable__label sk-toggleable__label-arrow\">LogisticRegression</label><div class=\"sk-toggleable__content\"><pre>LogisticRegression(random_state=0)</pre></div></div></div></div></div>"
            ]
          },
          "metadata": {},
          "execution_count": 6
        }
      ]
    },
    {
      "cell_type": "markdown",
      "metadata": {
        "id": "yyxW5b395mR2"
      },
      "source": [
        "## Predicting a new result"
      ]
    },
    {
      "cell_type": "code",
      "source": [
        "y_pred = classifier.predict(sc.transform([[30, 87000]]))"
      ],
      "metadata": {
        "id": "oGsfo4v3ShmX"
      },
      "execution_count": 7,
      "outputs": []
    },
    {
      "cell_type": "code",
      "source": [
        "print(y_pred)"
      ],
      "metadata": {
        "colab": {
          "base_uri": "https://localhost:8080/"
        },
        "id": "u9sVM2pnSqnr",
        "outputId": "2cb87312-46a4-4044-e2f4-df5d8560cef1"
      },
      "execution_count": 8,
      "outputs": [
        {
          "output_type": "stream",
          "name": "stdout",
          "text": [
            "[0]\n"
          ]
        }
      ]
    },
    {
      "cell_type": "markdown",
      "metadata": {
        "id": "vKYVQH-l5NpE"
      },
      "source": [
        "## Predicting the Test set results"
      ]
    },
    {
      "cell_type": "code",
      "source": [
        "y_pred = classifier.predict(x_test)"
      ],
      "metadata": {
        "id": "IVtWd6qNTicE"
      },
      "execution_count": 9,
      "outputs": []
    },
    {
      "cell_type": "code",
      "source": [
        "y_pred"
      ],
      "metadata": {
        "colab": {
          "base_uri": "https://localhost:8080/"
        },
        "id": "ddrPBhMrVY13",
        "outputId": "45c10fa8-204c-422e-c0fc-0b682e1486cc"
      },
      "execution_count": 10,
      "outputs": [
        {
          "output_type": "execute_result",
          "data": {
            "text/plain": [
              "array([0, 0, 0, 0, 0, 0, 0, 1, 0, 1, 0, 0, 0, 0, 0, 0, 0, 0, 1, 0, 0, 1,\n",
              "       0, 1, 0, 1, 0, 0, 0, 0, 0, 0, 1, 0, 0, 0, 0, 0, 0, 1, 0, 0, 0, 0,\n",
              "       1, 0, 0, 1, 0, 1, 1, 0, 0, 1, 1, 0, 0, 0, 0, 0, 0, 1, 0, 0, 0, 1,\n",
              "       0, 0, 0, 1, 1, 0, 0, 0, 0, 0, 1, 0, 1, 1, 1, 1, 0, 0, 1, 1, 0, 1,\n",
              "       0, 0, 0, 1, 0, 0, 0, 0, 0, 0, 1, 1])"
            ]
          },
          "metadata": {},
          "execution_count": 10
        }
      ]
    },
    {
      "cell_type": "code",
      "source": [
        "y_test"
      ],
      "metadata": {
        "colab": {
          "base_uri": "https://localhost:8080/"
        },
        "id": "OY8gmmsoVcfn",
        "outputId": "588b9450-a4f8-414b-b792-26e58acd633f"
      },
      "execution_count": 11,
      "outputs": [
        {
          "output_type": "execute_result",
          "data": {
            "text/plain": [
              "array([0, 0, 0, 0, 0, 0, 0, 1, 0, 0, 0, 0, 0, 0, 0, 0, 0, 0, 1, 0, 0, 1,\n",
              "       0, 1, 0, 1, 0, 0, 0, 0, 0, 1, 1, 0, 0, 0, 0, 0, 0, 1, 0, 0, 0, 0,\n",
              "       1, 0, 0, 1, 0, 1, 1, 0, 0, 0, 1, 1, 0, 0, 1, 0, 0, 1, 0, 1, 0, 1,\n",
              "       0, 0, 0, 0, 1, 0, 0, 1, 0, 0, 0, 0, 1, 1, 1, 0, 0, 0, 1, 1, 0, 1,\n",
              "       1, 0, 0, 1, 0, 0, 0, 1, 0, 1, 1, 1])"
            ]
          },
          "metadata": {},
          "execution_count": 11
        }
      ]
    },
    {
      "cell_type": "code",
      "source": [
        "print(np.concatenate((y_pred.reshape(-1, 1), y_test.reshape(-1, 1)), 1))"
      ],
      "metadata": {
        "colab": {
          "base_uri": "https://localhost:8080/"
        },
        "id": "_OQUVJUpVu60",
        "outputId": "ba5c514d-16e9-49b5-aa7f-f5358292db2a"
      },
      "execution_count": 12,
      "outputs": [
        {
          "output_type": "stream",
          "name": "stdout",
          "text": [
            "[[0 0]\n",
            " [0 0]\n",
            " [0 0]\n",
            " [0 0]\n",
            " [0 0]\n",
            " [0 0]\n",
            " [0 0]\n",
            " [1 1]\n",
            " [0 0]\n",
            " [1 0]\n",
            " [0 0]\n",
            " [0 0]\n",
            " [0 0]\n",
            " [0 0]\n",
            " [0 0]\n",
            " [0 0]\n",
            " [0 0]\n",
            " [0 0]\n",
            " [1 1]\n",
            " [0 0]\n",
            " [0 0]\n",
            " [1 1]\n",
            " [0 0]\n",
            " [1 1]\n",
            " [0 0]\n",
            " [1 1]\n",
            " [0 0]\n",
            " [0 0]\n",
            " [0 0]\n",
            " [0 0]\n",
            " [0 0]\n",
            " [0 1]\n",
            " [1 1]\n",
            " [0 0]\n",
            " [0 0]\n",
            " [0 0]\n",
            " [0 0]\n",
            " [0 0]\n",
            " [0 0]\n",
            " [1 1]\n",
            " [0 0]\n",
            " [0 0]\n",
            " [0 0]\n",
            " [0 0]\n",
            " [1 1]\n",
            " [0 0]\n",
            " [0 0]\n",
            " [1 1]\n",
            " [0 0]\n",
            " [1 1]\n",
            " [1 1]\n",
            " [0 0]\n",
            " [0 0]\n",
            " [1 0]\n",
            " [1 1]\n",
            " [0 1]\n",
            " [0 0]\n",
            " [0 0]\n",
            " [0 1]\n",
            " [0 0]\n",
            " [0 0]\n",
            " [1 1]\n",
            " [0 0]\n",
            " [0 1]\n",
            " [0 0]\n",
            " [1 1]\n",
            " [0 0]\n",
            " [0 0]\n",
            " [0 0]\n",
            " [1 0]\n",
            " [1 1]\n",
            " [0 0]\n",
            " [0 0]\n",
            " [0 1]\n",
            " [0 0]\n",
            " [0 0]\n",
            " [1 0]\n",
            " [0 0]\n",
            " [1 1]\n",
            " [1 1]\n",
            " [1 1]\n",
            " [1 0]\n",
            " [0 0]\n",
            " [0 0]\n",
            " [1 1]\n",
            " [1 1]\n",
            " [0 0]\n",
            " [1 1]\n",
            " [0 1]\n",
            " [0 0]\n",
            " [0 0]\n",
            " [1 1]\n",
            " [0 0]\n",
            " [0 0]\n",
            " [0 0]\n",
            " [0 1]\n",
            " [0 0]\n",
            " [0 1]\n",
            " [1 1]\n",
            " [1 1]]\n"
          ]
        }
      ]
    },
    {
      "cell_type": "markdown",
      "metadata": {
        "id": "h4Hwj34ziWQW"
      },
      "source": [
        "## Making the Confusion Matrix"
      ]
    },
    {
      "cell_type": "code",
      "source": [
        "from sklearn.metrics import confusion_matrix\n",
        "print(confusion_matrix(y_true = y_test, y_pred = y_pred))"
      ],
      "metadata": {
        "colab": {
          "base_uri": "https://localhost:8080/"
        },
        "id": "ea7WSm9QXlRD",
        "outputId": "b66e49b0-5c74-438c-8a73-b15e72dcb498"
      },
      "execution_count": 13,
      "outputs": [
        {
          "output_type": "stream",
          "name": "stdout",
          "text": [
            "[[63  5]\n",
            " [ 8 24]]\n"
          ]
        }
      ]
    },
    {
      "cell_type": "code",
      "source": [
        "from sklearn.metrics import accuracy_score\n",
        "print(accuracy_score(y_test, y_pred))"
      ],
      "metadata": {
        "colab": {
          "base_uri": "https://localhost:8080/"
        },
        "id": "KPguzU_VZBnc",
        "outputId": "3679dd48-5638-4361-ea57-e9d6104bbcac"
      },
      "execution_count": 14,
      "outputs": [
        {
          "output_type": "stream",
          "name": "stdout",
          "text": [
            "0.87\n"
          ]
        }
      ]
    },
    {
      "cell_type": "markdown",
      "metadata": {
        "id": "6OMC_P0diaoD"
      },
      "source": [
        "## Visualising the Training set results"
      ]
    },
    {
      "cell_type": "markdown",
      "source": [
        "Note: x1, x2 => meshgrid, both are same size of dim len(x_2)x len(x_1). if x_1 is [1,2,3] and x_2 is [3,4,5,6] then, x1 = [[1,2,3][1,2,3],[1,2,3][1,2,3]] and x2 = [[3,3,3][4,4,4][5,5,5][6,6,6]]"
      ],
      "metadata": {
        "id": "9UQx3uFM_OnD"
      }
    },
    {
      "cell_type": "markdown",
      "source": [
        "main parameters of contourf X, Y, Z all are of the same dim. Z => is array of predictions from x1 x x2, which has to be converted to have same dimension of x1 or x2 instead of the 1D. basically Z_i_j = predict[[x1_i,x2_j ]]"
      ],
      "metadata": {
        "id": "YiFYUCLuCCI2"
      }
    },
    {
      "cell_type": "code",
      "source": [
        "from matplotlib.colors import ListedColormap\n",
        "x_set, y_set = sc.inverse_transform(x_train), y_train\n",
        "x1, x2 = np.meshgrid(np.arange(start = x_set[:, 0].min() - 10, stop = x_set[:, 0].max() + 10, step = 0.25),\n",
        "                     np.arange(start = x_set[:, 1].min() - 1000, stop = x_set[:, 1].max() + 1000, step = 0.25))\n",
        "plt.contourf(x1, x2, classifier.predict(sc.transform(np.array([x1.ravel(), x2.ravel()]).T)).reshape(x1.shape),alpha = 0.75, cmap = ListedColormap(('salmon', 'dodgerblue')))\n",
        "plt.xlim(x1.min(), x1.max())\n",
        "plt.ylim(x2.min(), x2.max())\n",
        "for i, j in enumerate(np.unique(y_set)):\n",
        "  print(x_set[y_set == j].shape)\n",
        "  plt.scatter(x_set[y_set == j, 0], x_set[y_set == j, 1], c = ListedColormap(['salmon', 'dodgerblue'])(i), label = j)\n",
        "plt.title('Logistic Regression (Training Set)')\n",
        "plt.xlabel('Estimated Salary')\n",
        "plt.ylabel('Age')\n",
        "plt.legend()\n",
        "plt.show()\n"
      ],
      "metadata": {
        "id": "9eNYdr72aAgA",
        "colab": {
          "base_uri": "https://localhost:8080/",
          "height": 561
        },
        "outputId": "af23b866-57d5-44bd-9600-66c64ab3315a"
      },
      "execution_count": 15,
      "outputs": [
        {
          "output_type": "stream",
          "name": "stdout",
          "text": [
            "(189, 2)\n",
            "(111, 2)\n"
          ]
        },
        {
          "output_type": "stream",
          "name": "stderr",
          "text": [
            "<ipython-input-15-32a95d2204b2>:10: UserWarning: *c* argument looks like a single numeric RGB or RGBA sequence, which should be avoided as value-mapping will have precedence in case its length matches with *x* & *y*.  Please use the *color* keyword-argument or provide a 2D array with a single row if you intend to specify the same RGB or RGBA value for all points.\n",
            "  plt.scatter(x_set[y_set == j, 0], x_set[y_set == j, 1], c = ListedColormap(['salmon', 'dodgerblue'])(i), label = j)\n"
          ]
        },
        {
          "output_type": "display_data",
          "data": {
            "text/plain": [
              "<Figure size 640x480 with 1 Axes>"
            ],
            "image/png": "[encoded data removed]"
          },
          "metadata": {}
        }
      ]
    },
    {
      "cell_type": "code",
      "source": [
        "plt.xlim(x1.min(), x1.max())\n",
        "plt.ylim(x2.min(), x2.max())\n",
        "for i, j in enumerate(np.unique(y_set)):\n",
        "  print(x_set[y_set == j].shape)\n",
        "  plt.scatter(x_set[y_set == j, 0], x_set[y_set == j, 1], c = ListedColormap(['salmon', 'dodgerblue'])(i), label = j)\n",
        "plt.show()"
      ],
      "metadata": {
        "colab": {
          "base_uri": "https://localhost:8080/",
          "height": 519
        },
        "id": "xtvjtAoOlWTk",
        "outputId": "98f97b38-6d1c-4ed3-dd77-8efbe6ba419e"
      },
      "execution_count": 16,
      "outputs": [
        {
          "output_type": "stream",
          "name": "stdout",
          "text": [
            "(189, 2)\n",
            "(111, 2)\n"
          ]
        },
        {
          "output_type": "stream",
          "name": "stderr",
          "text": [
            "<ipython-input-16-0d5bffd308b2>:5: UserWarning: *c* argument looks like a single numeric RGB or RGBA sequence, which should be avoided as value-mapping will have precedence in case its length matches with *x* & *y*.  Please use the *color* keyword-argument or provide a 2D array with a single row if you intend to specify the same RGB or RGBA value for all points.\n",
            "  plt.scatter(x_set[y_set == j, 0], x_set[y_set == j, 1], c = ListedColormap(['salmon', 'dodgerblue'])(i), label = j)\n"
          ]
        },
        {
          "output_type": "display_data",
          "data": {
            "text/plain": [
              "<Figure size 640x480 with 1 Axes>"
            ],
            "image/png": "[encoded data removed]"
          },
          "metadata": {}
        }
      ]
    },
    {
      "cell_type": "code",
      "source": [
        "import numpy as np\n",
        "\n",
        "# Example data\n",
        "X_set = np.array([[1, 2],\n",
        "                   [3, 4],\n",
        "                   [5, 6],\n",
        "                   [7, 8]])\n",
        "\n",
        "# Example boolean array\n",
        "true = np.array([True, False, True, False])\n",
        "\n",
        "# Select values from the first column where the condition is True\n",
        "result = X_set[true, 0]\n",
        "\n",
        "print(result, X_set[true, 1], X_set[true, -1])\n"
      ],
      "metadata": {
        "colab": {
          "base_uri": "https://localhost:8080/"
        },
        "id": "FHGwiWIA9q5K",
        "outputId": "653940b5-eee7-4f0c-8989-bcc9249af418"
      },
      "execution_count": 17,
      "outputs": [
        {
          "output_type": "stream",
          "name": "stdout",
          "text": [
            "[1 5] [2 6] [2 6]\n"
          ]
        }
      ]
    },
    {
      "cell_type": "markdown",
      "metadata": {
        "id": "SZ-j28aPihZx"
      },
      "source": [
        "## Visualising the Test set results"
      ]
    },
    {
      "cell_type": "code",
      "source": [
        "x_set, y_set = sc.inverse_transform(x_test), y_test\n",
        "x1, x2 = np.meshgrid(np.arange(start = x_set[:, 0].min() - 10, stop = x_set[:, 0].max() + 10, step = 0.25),\n",
        "                     np.arange(start = x_set[:, 1].min() - 1000, stop = x_set[:, 1].max() + 1000, step = 0.25))\n",
        "plt.contourf(x1, x2, classifier.predict(sc.transform(np.array([x1.ravel(), x2.ravel()]).T)).reshape(x1.shape),alpha = 0.75, cmap = ListedColormap(('salmon', 'dodgerblue')))\n",
        "plt.xlim(x1.min(), x1.max())\n",
        "plt.ylim(x2.min(), x2.max())\n",
        "for i, j in enumerate(np.unique(y_set)):\n",
        "  plt.scatter(x_set[y_set == j, 0], x_set[y_set == j, 1],c = ListedColormap(('salmon', 'dodgerblue'))(i), label=j)\n",
        "plt.title('Logistic Regression (Test set)')\n",
        "plt.xlabel('Age')\n",
        "plt.ylabel('Estimated Salary')\n",
        "plt.legend()\n",
        "plt.show()"
      ],
      "metadata": {
        "colab": {
          "base_uri": "https://localhost:8080/",
          "height": 527
        },
        "id": "R9qZxuZaELV9",
        "outputId": "e6d5f691-f73e-420f-8c38-95bd83d57d74"
      },
      "execution_count": 21,
      "outputs": [
        {
          "output_type": "stream",
          "name": "stderr",
          "text": [
            "<ipython-input-21-e125de8e5075>:8: UserWarning: *c* argument looks like a single numeric RGB or RGBA sequence, which should be avoided as value-mapping will have precedence in case its length matches with *x* & *y*.  Please use the *color* keyword-argument or provide a 2D array with a single row if you intend to specify the same RGB or RGBA value for all points.\n",
            "  plt.scatter(x_set[y_set == j, 0], x_set[y_set == j, 1],c = ListedColormap(('salmon', 'dodgerblue'))(i), label=j)\n"
          ]
        },
        {
          "output_type": "display_data",
          "data": {
            "text/plain": [
              "<Figure size 640x480 with 1 Axes>"
            ],
            "image/png": "[encoded data removed]"
          },
          "metadata": {}
        }
      ]
    }
  ]
}