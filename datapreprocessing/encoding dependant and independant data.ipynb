{
  "nbformat": 4,
  "nbformat_minor": 0,
  "metadata": {
    "colab": {
      "provenance": []
    },
    "kernelspec": {
      "name": "python3",
      "display_name": "Python 3"
    },
    "language_info": {
      "name": "python"
    }
  },
  "cells": [
    {
      "cell_type": "code",
      "execution_count": 2,
      "metadata": {
        "id": "P4YJeovdNrHg"
      },
      "outputs": [],
      "source": [
        "# Importing the necessary libraries\n",
        "import numpy as np\n",
        "import pandas as pd\n",
        "from sklearn.compose import ColumnTransformer\n",
        "from sklearn.preprocessing import OneHotEncoder\n",
        "from sklearn.preprocessing import LabelEncoder\n"
      ]
    },
    {
      "cell_type": "code",
      "source": [
        "# Load the dataset\n",
        "dataset = pd.read_csv('titanic.csv')\n",
        "X = dataset.drop(['Survived'], axis=1)\n",
        "Y = dataset['Survived']\n",
        "\n",
        "# Print the updated matrix of features and the dependent variable vector\n",
        "print(X)\n",
        "print(Y)"
      ],
      "metadata": {
        "colab": {
          "base_uri": "https://localhost:8080/"
        },
        "id": "qVNAlMLJOFhV",
        "outputId": "1f32e939-8972-465b-a631-49901482fff4"
      },
      "execution_count": 21,
      "outputs": [
        {
          "output_type": "stream",
          "name": "stdout",
          "text": [
            "     PassengerId  Pclass                                               Name  \\\n",
            "0              2       1  Cumings, Mrs. John Bradley (Florence Briggs Th...   \n",
            "1              4       1       Futrelle, Mrs. Jacques Heath (Lily May Peel)   \n",
            "2              7       1                            McCarthy, Mr. Timothy J   \n",
            "3             11       3                    Sandstrom, Miss. Marguerite Rut   \n",
            "4             12       1                           Bonnell, Miss. Elizabeth   \n",
            "..           ...     ...                                                ...   \n",
            "178          872       1   Beckwith, Mrs. Richard Leonard (Sallie Monypeny)   \n",
            "179          873       1                           Carlsson, Mr. Frans Olof   \n",
            "180          880       1      Potter, Mrs. Thomas Jr (Lily Alexenia Wilson)   \n",
            "181          888       1                       Graham, Miss. Margaret Edith   \n",
            "182          890       1                              Behr, Mr. Karl Howell   \n",
            "\n",
            "        Sex   Age  SibSp  Parch    Ticket     Fare        Cabin Embarked  \n",
            "0    female  38.0      1      0  PC 17599  71.2833          C85        C  \n",
            "1    female  35.0      1      0    113803  53.1000         C123        S  \n",
            "2      male  54.0      0      0     17463  51.8625          E46        S  \n",
            "3    female   4.0      1      1   PP 9549  16.7000           G6        S  \n",
            "4    female  58.0      0      0    113783  26.5500         C103        S  \n",
            "..      ...   ...    ...    ...       ...      ...          ...      ...  \n",
            "178  female  47.0      1      1     11751  52.5542          D35        S  \n",
            "179    male  33.0      0      0       695   5.0000  B51 B53 B55        S  \n",
            "180  female  56.0      0      1     11767  83.1583          C50        C  \n",
            "181  female  19.0      0      0    112053  30.0000          B42        S  \n",
            "182    male  26.0      0      0    111369  30.0000         C148        C  \n",
            "\n",
            "[183 rows x 11 columns]\n",
            "0      1\n",
            "1      1\n",
            "2      0\n",
            "3      1\n",
            "4      1\n",
            "      ..\n",
            "178    1\n",
            "179    0\n",
            "180    1\n",
            "181    1\n",
            "182    1\n",
            "Name: Survived, Length: 183, dtype: int64\n"
          ]
        }
      ]
    },
    {
      "cell_type": "code",
      "source": [
        "# Identify the categorical data\n",
        "\n",
        "categorical_features = [1,3,10]\n",
        "\n",
        "# Implement an instance of the ColumnTransformer class\n",
        "ct = ColumnTransformer(transformers=[('encoder', OneHotEncoder(), categorical_features)], remainder='passthrough')\n",
        "\n",
        "print(ct)\n",
        "\n"
      ],
      "metadata": {
        "colab": {
          "base_uri": "https://localhost:8080/"
        },
        "id": "Mu3RwQOwOJZ9",
        "outputId": "c3da59d1-8a95-4c00-db94-1c3398d87291"
      },
      "execution_count": 22,
      "outputs": [
        {
          "output_type": "stream",
          "name": "stdout",
          "text": [
            "ColumnTransformer(remainder='passthrough',\n",
            "                  transformers=[('encoder', OneHotEncoder(), [1, 3, 10])])\n"
          ]
        }
      ]
    },
    {
      "cell_type": "code",
      "source": [
        "# Apply the fit_transform method on the instance of ColumnTransformer\n",
        "out = ct.fit_transform(X)\n",
        "print(out[0,:])\n",
        "# Convert the output into a NumPy array\n",
        "\n",
        "X = np.array(out)\n",
        "print(X)\n"
      ],
      "metadata": {
        "colab": {
          "base_uri": "https://localhost:8080/"
        },
        "id": "RJNhhO5MOOSc",
        "outputId": "c7b70106-0aa5-4d01-a133-a7dbc1444f8e"
      },
      "execution_count": 23,
      "outputs": [
        {
          "output_type": "stream",
          "name": "stdout",
          "text": [
            "[1.0 0.0 0.0 1.0 0.0 1.0 0.0 0.0 2\n",
            " 'Cumings, Mrs. John Bradley (Florence Briggs Thayer)' 38.0 1 0 'PC 17599'\n",
            " 71.2833 'C85']\n",
            "[[1.0 0.0 0.0 ... 'PC 17599' 71.2833 'C85']\n",
            " [1.0 0.0 0.0 ... '113803' 53.1 'C123']\n",
            " [1.0 0.0 0.0 ... '17463' 51.8625 'E46']\n",
            " ...\n",
            " [1.0 0.0 0.0 ... '11767' 83.1583 'C50']\n",
            " [1.0 0.0 0.0 ... '112053' 30.0 'B42']\n",
            " [1.0 0.0 0.0 ... '111369' 30.0 'C148']]\n"
          ]
        }
      ]
    },
    {
      "cell_type": "code",
      "source": [
        "# Use LabelEncoder to encode binary categorical data\n",
        "le = LabelEncoder()\n",
        "Y = le.fit_transform(Y)\n"
      ],
      "metadata": {
        "id": "RhObFSC1OoRl"
      },
      "execution_count": 24,
      "outputs": []
    },
    {
      "cell_type": "code",
      "source": [
        "\n",
        "# Print the updated matrix of features and the dependent variable vector\n",
        "print(X[0:1, :])\n",
        "print(Y)"
      ],
      "metadata": {
        "colab": {
          "base_uri": "https://localhost:8080/"
        },
        "id": "RTJ1wbM4OTsE",
        "outputId": "aeca68f6-7a5c-4eb4-a339-ce139ccce5a8"
      },
      "execution_count": 25,
      "outputs": [
        {
          "output_type": "stream",
          "name": "stdout",
          "text": [
            "[[1.0 0.0 0.0 1.0 0.0 1.0 0.0 0.0 2\n",
            "  'Cumings, Mrs. John Bradley (Florence Briggs Thayer)' 38.0 1 0\n",
            "  'PC 17599' 71.2833 'C85']]\n",
            "[1 1 0 1 1 1 1 0 1 0 0 1 0 1 0 0 1 0 0 0 1 0 1 0 0 0 1 0 0 0 1 1 1 1 0 1 1\n",
            " 1 1 1 0 1 0 0 1 0 0 1 1 0 1 1 0 0 1 1 1 1 1 1 1 1 1 1 1 0 0 0 1 0 1 1 1 1\n",
            " 1 1 1 0 1 1 1 1 1 1 0 1 0 1 1 0 1 0 1 0 1 1 1 0 0 1 0 1 0 1 0 1 1 1 0 1 1\n",
            " 0 1 1 1 1 1 1 1 0 1 1 1 1 1 1 1 0 1 1 1 1 1 1 0 0 0 1 1 1 1 0 0 1 1 1 1 1\n",
            " 0 1 1 1 1 1 0 1 0 0 1 1 1 1 0 1 1 0 0 1 1 0 1 1 1 1 1 1 1 0 1 0 1 1 1]\n"
          ]
        }
      ]
    }
  ]
}