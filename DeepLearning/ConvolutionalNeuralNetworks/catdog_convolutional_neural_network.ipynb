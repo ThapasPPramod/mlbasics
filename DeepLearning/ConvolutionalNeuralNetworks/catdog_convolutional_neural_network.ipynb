{
  "nbformat": 4,
  "nbformat_minor": 0,
  "metadata": {
    "colab": {
      "provenance": []
    },
    "kernelspec": {
      "name": "python3",
      "display_name": "Python 3"
    }
  },
  "cells": [
    {
      "cell_type": "markdown",
      "metadata": {
        "id": "3DR-eO17geWu"
      },
      "source": [
        "# Convolutional Neural Network"
      ]
    },
    {
      "cell_type": "markdown",
      "metadata": {
        "id": "EMefrVPCg-60"
      },
      "source": [
        "### Importing the libraries"
      ]
    },
    {
      "cell_type": "code",
      "source": [
        "import tensorflow as tf\n",
        "from keras.preprocessing.image import ImageDataGenerator"
      ],
      "metadata": {
        "id": "PPSU1OwXRwZp"
      },
      "execution_count": 4,
      "outputs": []
    },
    {
      "cell_type": "markdown",
      "metadata": {
        "id": "oxQxCBWyoGPE"
      },
      "source": [
        "## Part 1 - Data Preprocessing"
      ]
    },
    {
      "cell_type": "code",
      "source": [
        "!wget \"http://dl.dropboxusercontent.com/s/w9aqbqxmj4i2my8/dataset.zip\"\n",
        "!unzip dataset.zip\n",
        "!ls"
      ],
      "metadata": {
        "colab": {
          "base_uri": "https://localhost:8080/"
        },
        "id": "wgsZM2dABMQk",
        "outputId": "78fa7a3d-3962-44d3-8406-2e9633ca601a"
      },
      "execution_count": 5,
      "outputs": [
        {
          "output_type": "stream",
          "name": "stdout",
          "text": [
            "URL transformed to HTTPS due to an HSTS policy\n",
            "--2023-12-12 07:57:10--  https://dl.dropboxusercontent.com/s/w9aqbqxmj4i2my8/dataset.zip\n",
            "Resolving dl.dropboxusercontent.com (dl.dropboxusercontent.com)... 162.125.80.15, 2620:100:6035:15::a27d:550f\n",
            "Connecting to dl.dropboxusercontent.com (dl.dropboxusercontent.com)|162.125.80.15|:443... connected.\n",
            "HTTP request sent, awaiting response... 200 OK\n",
            "Length: 228733995 (218M) [application/zip]\n",
            "Saving to: ‘dataset.zip.1’\n",
            "\n",
            "dataset.zip.1       100%[===================>] 218.14M  16.3MB/s    in 12s     \n",
            "\n",
            "2023-12-12 07:57:23 (18.0 MB/s) - ‘dataset.zip.1’ saved [228733995/228733995]\n",
            "\n",
            "Archive:  dataset.zip\n",
            "replace dataset/.DS_Store? [y]es, [n]o, [A]ll, [N]one, [r]ename: dataset  dataset.zip  dataset.zip.1  sample_data\n"
          ]
        }
      ]
    },
    {
      "cell_type": "markdown",
      "metadata": {
        "id": "MvE-heJNo3GG"
      },
      "source": [
        "### Preprocessing the Training set"
      ]
    },
    {
      "cell_type": "code",
      "source": [
        "# image augmentation: to ensure cnn does not overfit or overlearn\n",
        "train_datagen = ImageDataGenerator(\n",
        "    # rescale feature scales values 0 to 255\n",
        "    rescale=1./255,\n",
        "    #image augmentation\n",
        "    shear_range=0.2,\n",
        "    zoom_range=0.2,\n",
        "    horizontal_flip=True\n",
        ")\n",
        "training_set = train_datagen.flow_from_directory(\n",
        "    'dataset/training_set',\n",
        "    target_size=(64, 64),\n",
        "    batch_size=32,\n",
        "    class_mode='binary'\n",
        ")"
      ],
      "metadata": {
        "colab": {
          "base_uri": "https://localhost:8080/"
        },
        "id": "wGntQoHDStGc",
        "outputId": "bc330b94-9e8c-4e2e-ceaf-1d27af5e5470"
      },
      "execution_count": 6,
      "outputs": [
        {
          "output_type": "stream",
          "name": "stdout",
          "text": [
            "Found 8000 images belonging to 2 classes.\n"
          ]
        }
      ]
    },
    {
      "cell_type": "markdown",
      "metadata": {
        "id": "mrCMmGw9pHys"
      },
      "source": [
        "### Preprocessing the Test set"
      ]
    },
    {
      "cell_type": "code",
      "source": [
        "# we don't have to augment the test set; just feature scale them\n",
        "# more theory after more research\n",
        "test_datagen = ImageDataGenerator(rescale=1./255)\n",
        "test_set = test_datagen.flow_from_directory('dataset/test_set', target_size=(64, 64), batch_size=32, class_mode='binary')"
      ],
      "metadata": {
        "colab": {
          "base_uri": "https://localhost:8080/"
        },
        "id": "vP4xibJ_gaib",
        "outputId": "7f5f8ddc-f7ab-4a31-982f-1ea69878bc25"
      },
      "execution_count": 7,
      "outputs": [
        {
          "output_type": "stream",
          "name": "stdout",
          "text": [
            "Found 2000 images belonging to 2 classes.\n"
          ]
        }
      ]
    },
    {
      "cell_type": "markdown",
      "metadata": {
        "id": "af8O4l90gk7B"
      },
      "source": [
        "## Part 2 - Building the CNN"
      ]
    },
    {
      "cell_type": "markdown",
      "metadata": {
        "id": "ces1gXY2lmoX"
      },
      "source": [
        "### Initialising the CNN"
      ]
    },
    {
      "cell_type": "code",
      "source": [
        "cnn = tf.keras.models.Sequential()"
      ],
      "metadata": {
        "id": "NE40GIT7h5mI"
      },
      "execution_count": 17,
      "outputs": []
    },
    {
      "cell_type": "markdown",
      "metadata": {
        "id": "u5YJj_XMl5LF"
      },
      "source": [
        "### Step 1 - Convolution"
      ]
    },
    {
      "cell_type": "code",
      "source": [
        "# kernel size = 3 * 3 matrix so, 3,\n",
        "# input shape : size of each image is 64,64. colored image: 64,64,3, bw: 64,64,1\n",
        "cnn.add(tf.keras.layers.Conv2D(filters=32, kernel_size=3, activation='relu', input_shape=[64,64,3]))"
      ],
      "metadata": {
        "id": "7W7EHGCItyW4"
      },
      "execution_count": 18,
      "outputs": []
    },
    {
      "cell_type": "markdown",
      "metadata": {
        "id": "tf87FpvxmNOJ"
      },
      "source": [
        "### Step 2 - Pooling"
      ]
    },
    {
      "cell_type": "code",
      "source": [
        "cnn.add(tf.keras.layers.MaxPool2D(pool_size= 2, strides=2 ))"
      ],
      "metadata": {
        "id": "mIQIJqB_u4oZ"
      },
      "execution_count": 19,
      "outputs": []
    },
    {
      "cell_type": "markdown",
      "metadata": {
        "id": "xaTOgD8rm4mU"
      },
      "source": [
        "### Adding a second convolutional layer"
      ]
    },
    {
      "cell_type": "code",
      "source": [
        "cnn.add(tf.keras.layers.Conv2D(filters=32, kernel_size= 3, activation='relu'))\n",
        "cnn.add(tf.keras.layers.MaxPool2D(pool_size=2, strides=2))"
      ],
      "metadata": {
        "id": "sYQhCj2ewFb-"
      },
      "execution_count": 20,
      "outputs": []
    },
    {
      "cell_type": "markdown",
      "metadata": {
        "id": "tmiEuvTunKfk"
      },
      "source": [
        "### Step 3 - Flattening"
      ]
    },
    {
      "cell_type": "code",
      "source": [
        "cnn.add(tf.keras.layers.Flatten())"
      ],
      "metadata": {
        "id": "bPbX3WS-wmCF"
      },
      "execution_count": 21,
      "outputs": []
    },
    {
      "cell_type": "markdown",
      "metadata": {
        "id": "dAoSECOm203v"
      },
      "source": [
        "### Step 4 - Full Connection"
      ]
    },
    {
      "cell_type": "code",
      "source": [
        "\n",
        "cnn.add(tf.keras.layers.Dense(units=128, activation='relu'))"
      ],
      "metadata": {
        "id": "whE5wNnhwz-3"
      },
      "execution_count": 22,
      "outputs": []
    },
    {
      "cell_type": "markdown",
      "metadata": {
        "id": "yTldFvbX28Na"
      },
      "source": [
        "### Step 5 - Output Layer"
      ]
    },
    {
      "cell_type": "code",
      "source": [
        "cnn.add(tf.keras.layers.Dense(units=1, activation='sigmoid'))"
      ],
      "metadata": {
        "id": "io7bVB4myJaz"
      },
      "execution_count": 23,
      "outputs": []
    },
    {
      "cell_type": "markdown",
      "metadata": {
        "id": "D6XkI90snSDl"
      },
      "source": [
        "## Part 3 - Training the CNN"
      ]
    },
    {
      "cell_type": "markdown",
      "metadata": {
        "id": "vfrFQACEnc6i"
      },
      "source": [
        "### Compiling the CNN"
      ]
    },
    {
      "cell_type": "code",
      "source": [
        "cnn.compile(optimizer='adam', loss='binary_crossentropy', metrics=['accuracy'])"
      ],
      "metadata": {
        "id": "QqiwiSzsyV62"
      },
      "execution_count": 24,
      "outputs": []
    },
    {
      "cell_type": "markdown",
      "metadata": {
        "id": "ehS-v3MIpX2h"
      },
      "source": [
        "### Training the CNN on the Training set and evaluating it on the Test set"
      ]
    },
    {
      "cell_type": "code",
      "source": [
        "cnn.fit(x=training_set, validation_data=test_set, epochs=25)"
      ],
      "metadata": {
        "colab": {
          "base_uri": "https://localhost:8080/"
        },
        "id": "cdK4muU3ymN0",
        "outputId": "876ea9f3-10bb-4641-cba3-ccffaeedd21e"
      },
      "execution_count": 25,
      "outputs": [
        {
          "output_type": "stream",
          "name": "stdout",
          "text": [
            "Epoch 1/25\n",
            "250/250 [==============================] - 77s 301ms/step - loss: 0.6675 - accuracy: 0.5946 - val_loss: 0.6188 - val_accuracy: 0.6715\n",
            "Epoch 2/25\n",
            "250/250 [==============================] - 64s 257ms/step - loss: 0.6085 - accuracy: 0.6720 - val_loss: 0.5755 - val_accuracy: 0.7045\n",
            "Epoch 3/25\n",
            "250/250 [==============================] - 63s 250ms/step - loss: 0.5612 - accuracy: 0.7061 - val_loss: 0.5241 - val_accuracy: 0.7585\n",
            "Epoch 4/25\n",
            "250/250 [==============================] - 65s 261ms/step - loss: 0.5196 - accuracy: 0.7420 - val_loss: 0.5235 - val_accuracy: 0.7510\n",
            "Epoch 5/25\n",
            "250/250 [==============================] - 62s 248ms/step - loss: 0.4913 - accuracy: 0.7651 - val_loss: 0.4976 - val_accuracy: 0.7675\n",
            "Epoch 6/25\n",
            "250/250 [==============================] - 64s 254ms/step - loss: 0.4713 - accuracy: 0.7741 - val_loss: 0.4897 - val_accuracy: 0.7615\n",
            "Epoch 7/25\n",
            "250/250 [==============================] - 63s 251ms/step - loss: 0.4530 - accuracy: 0.7855 - val_loss: 0.4585 - val_accuracy: 0.7965\n",
            "Epoch 8/25\n",
            "250/250 [==============================] - 64s 257ms/step - loss: 0.4360 - accuracy: 0.7944 - val_loss: 0.4576 - val_accuracy: 0.7890\n",
            "Epoch 9/25\n",
            "250/250 [==============================] - 65s 261ms/step - loss: 0.4244 - accuracy: 0.8011 - val_loss: 0.4539 - val_accuracy: 0.7925\n",
            "Epoch 10/25\n",
            "250/250 [==============================] - 69s 276ms/step - loss: 0.4124 - accuracy: 0.8085 - val_loss: 0.4840 - val_accuracy: 0.7850\n",
            "Epoch 11/25\n",
            "250/250 [==============================] - 63s 250ms/step - loss: 0.3957 - accuracy: 0.8191 - val_loss: 0.4435 - val_accuracy: 0.7995\n",
            "Epoch 12/25\n",
            "250/250 [==============================] - 68s 272ms/step - loss: 0.3821 - accuracy: 0.8248 - val_loss: 0.5120 - val_accuracy: 0.7785\n",
            "Epoch 13/25\n",
            "250/250 [==============================] - 62s 249ms/step - loss: 0.3670 - accuracy: 0.8419 - val_loss: 0.4484 - val_accuracy: 0.8005\n",
            "Epoch 14/25\n",
            "250/250 [==============================] - 71s 283ms/step - loss: 0.3592 - accuracy: 0.8388 - val_loss: 0.4385 - val_accuracy: 0.8090\n",
            "Epoch 15/25\n",
            "250/250 [==============================] - 63s 253ms/step - loss: 0.3373 - accuracy: 0.8485 - val_loss: 0.4618 - val_accuracy: 0.8045\n",
            "Epoch 16/25\n",
            "250/250 [==============================] - 69s 276ms/step - loss: 0.3263 - accuracy: 0.8566 - val_loss: 0.4553 - val_accuracy: 0.8150\n",
            "Epoch 17/25\n",
            "250/250 [==============================] - 64s 254ms/step - loss: 0.3129 - accuracy: 0.8618 - val_loss: 0.5719 - val_accuracy: 0.7515\n",
            "Epoch 18/25\n",
            "250/250 [==============================] - 63s 253ms/step - loss: 0.3017 - accuracy: 0.8760 - val_loss: 0.5079 - val_accuracy: 0.7990\n",
            "Epoch 19/25\n",
            "250/250 [==============================] - 65s 259ms/step - loss: 0.2935 - accuracy: 0.8783 - val_loss: 0.4859 - val_accuracy: 0.8055\n",
            "Epoch 20/25\n",
            "250/250 [==============================] - 64s 254ms/step - loss: 0.2693 - accuracy: 0.8900 - val_loss: 0.4943 - val_accuracy: 0.8160\n",
            "Epoch 21/25\n",
            "250/250 [==============================] - 63s 253ms/step - loss: 0.2618 - accuracy: 0.8898 - val_loss: 0.5264 - val_accuracy: 0.8040\n",
            "Epoch 22/25\n",
            "250/250 [==============================] - 64s 255ms/step - loss: 0.2502 - accuracy: 0.8969 - val_loss: 0.4823 - val_accuracy: 0.8225\n",
            "Epoch 23/25\n",
            "250/250 [==============================] - 68s 272ms/step - loss: 0.2378 - accuracy: 0.9006 - val_loss: 0.5264 - val_accuracy: 0.8030\n",
            "Epoch 24/25\n",
            "250/250 [==============================] - 66s 264ms/step - loss: 0.2292 - accuracy: 0.9070 - val_loss: 0.5060 - val_accuracy: 0.8045\n",
            "Epoch 25/25\n",
            "250/250 [==============================] - 68s 273ms/step - loss: 0.2210 - accuracy: 0.9097 - val_loss: 0.5226 - val_accuracy: 0.8080\n"
          ]
        },
        {
          "output_type": "execute_result",
          "data": {
            "text/plain": [
              "<keras.src.callbacks.History at 0x780d93fadbd0>"
            ]
          },
          "metadata": {},
          "execution_count": 25
        }
      ]
    },
    {
      "cell_type": "markdown",
      "metadata": {
        "id": "U3PZasO0006Z"
      },
      "source": [
        "## Part 4 - Making a single prediction"
      ]
    },
    {
      "cell_type": "code",
      "source": [
        "import numpy as np\n",
        "from keras.preprocessing import image\n",
        "test_image = image.load_img('dataset/single_prediction/cat_or_dog_2.jpg', target_size=(64, 64))\n",
        "# pil format to np.array format\n",
        "test_image = image.img_to_array(test_image)\n",
        "# was trained with batch of images (32), single image needs to be in batch size 32\n",
        "test_image = np.expand_dims(test_image, axis=0)\n",
        "result = cnn.predict(test_image)\n",
        "training_set.class_indices\n",
        "if result[0][0] == 1:\n",
        "  prediction = 'dog'\n",
        "else:\n",
        "  prediction = 'cat'"
      ],
      "metadata": {
        "colab": {
          "base_uri": "https://localhost:8080/"
        },
        "id": "KAhYuoQ2z1pg",
        "outputId": "1bc4496d-480b-460e-86ee-3fd4793ddbb5"
      },
      "execution_count": 29,
      "outputs": [
        {
          "output_type": "stream",
          "name": "stdout",
          "text": [
            "1/1 [==============================] - 0s 52ms/step\n"
          ]
        }
      ]
    },
    {
      "cell_type": "code",
      "source": [
        "print(prediction)"
      ],
      "metadata": {
        "colab": {
          "base_uri": "https://localhost:8080/"
        },
        "id": "vO4T89cB254f",
        "outputId": "b46c1a85-1aa4-454d-9308-f9ed8d4530f8"
      },
      "execution_count": 30,
      "outputs": [
        {
          "output_type": "stream",
          "name": "stdout",
          "text": [
            "cat\n"
          ]
        }
      ]
    },
    {
      "cell_type": "code",
      "source": [
        "import numpy as np\n",
        "from keras.preprocessing import image\n",
        "test_image = image.load_img('dataset/single_prediction/cat_or_dog_1.jpg', target_size=(64, 64))\n",
        "# pil format to np.array format\n",
        "test_image = image.img_to_array(test_image)\n",
        "# was trained with batch of images (32), single image needs to be in batch size 32\n",
        "test_image = np.expand_dims(test_image, axis=0)\n",
        "result = cnn.predict(test_image)\n",
        "training_set.class_indices\n",
        "if result[0][0] == 1:\n",
        "  prediction = 'dog'\n",
        "else:\n",
        "  prediction = 'cat'"
      ],
      "metadata": {
        "colab": {
          "base_uri": "https://localhost:8080/"
        },
        "outputId": "8317087b-5a80-4ef1-d216-72428c7f7ec4",
        "id": "UZGSeB3XPsgn"
      },
      "execution_count": 31,
      "outputs": [
        {
          "output_type": "stream",
          "name": "stdout",
          "text": [
            "1/1 [==============================] - 0s 38ms/step\n"
          ]
        }
      ]
    },
    {
      "cell_type": "code",
      "source": [
        "print(prediction)"
      ],
      "metadata": {
        "colab": {
          "base_uri": "https://localhost:8080/"
        },
        "outputId": "16f1ed62-3e05-4bf8-b887-8f2190b3dd62",
        "id": "TINASjX8PuLY"
      },
      "execution_count": 32,
      "outputs": [
        {
          "output_type": "stream",
          "name": "stdout",
          "text": [
            "dog\n"
          ]
        }
      ]
    }
  ]
}