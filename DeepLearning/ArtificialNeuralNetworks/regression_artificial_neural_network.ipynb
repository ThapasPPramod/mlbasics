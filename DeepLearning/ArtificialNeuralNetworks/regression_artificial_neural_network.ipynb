{
  "nbformat": 4,
  "nbformat_minor": 0,
  "metadata": {
    "colab": {
      "provenance": []
    },
    "kernelspec": {
      "name": "python3",
      "display_name": "Python 3"
    }
  },
  "cells": [
    {
      "cell_type": "markdown",
      "metadata": {
        "id": "3cbb7fRy-eyr"
      },
      "source": [
        "# Artificial Neural Network"
      ]
    },
    {
      "cell_type": "markdown",
      "metadata": {
        "id": "8sNDnxE2-pwE"
      },
      "source": [
        "### Importing the libraries"
      ]
    },
    {
      "cell_type": "code",
      "source": [
        "import numpy as np\n",
        "import pandas as pd\n",
        "import tensorflow as tf"
      ],
      "metadata": {
        "id": "BmH4Qf-bOT0q"
      },
      "execution_count": 1,
      "outputs": []
    },
    {
      "cell_type": "markdown",
      "metadata": {
        "id": "AG3FQEch-yuA"
      },
      "source": [
        "## Part 1 - Data Preprocessing"
      ]
    },
    {
      "cell_type": "code",
      "source": [
        "!pip install odfpy"
      ],
      "metadata": {
        "colab": {
          "base_uri": "https://localhost:8080/"
        },
        "id": "qrzaEhsxPhgR",
        "outputId": "0ac05fae-72ff-4f3a-b7ac-fe4cb0d2906b"
      },
      "execution_count": 3,
      "outputs": [
        {
          "output_type": "stream",
          "name": "stdout",
          "text": [
            "Collecting odfpy\n",
            "  Downloading odfpy-1.4.1.tar.gz (717 kB)\n",
            "\u001b[2K     \u001b[90m━━━━━━━━━━━━━━━━━━━━━━━━━━━━━━━━━━━━━━━━\u001b[0m \u001b[32m717.0/717.0 kB\u001b[0m \u001b[31m4.3 MB/s\u001b[0m eta \u001b[36m0:00:00\u001b[0m\n",
            "\u001b[?25h  Preparing metadata (setup.py) ... \u001b[?25l\u001b[?25hdone\n",
            "Requirement already satisfied: defusedxml in /usr/local/lib/python3.10/dist-packages (from odfpy) (0.7.1)\n",
            "Building wheels for collected packages: odfpy\n",
            "  Building wheel for odfpy (setup.py) ... \u001b[?25l\u001b[?25hdone\n",
            "  Created wheel for odfpy: filename=odfpy-1.4.1-py2.py3-none-any.whl size=160673 sha256=dc1fc41d1b0c0f10197c38b37d1c97679952eee14a774e0e93ad9be958c2c017\n",
            "  Stored in directory: /root/.cache/pip/wheels/c8/2e/95/90d94fe33903786937f3b8c33dd88807f792359c6424b40469\n",
            "Successfully built odfpy\n",
            "Installing collected packages: odfpy\n",
            "Successfully installed odfpy-1.4.1\n"
          ]
        }
      ]
    },
    {
      "cell_type": "markdown",
      "metadata": {
        "id": "-4zq8Mza_D9O"
      },
      "source": [
        "### Importing the dataset"
      ]
    },
    {
      "cell_type": "markdown",
      "source": [
        "Features consist of hourly average ambient variables\n",
        "- Temperature (T) in the range 1.81°C and 37.11°C,\n",
        "- Ambient Pressure (AP) in the range 992.89-1033.30 milibar,\n",
        "- Relative Humidity (RH) in the range 25.56% to 100.16%\n",
        "- Exhaust Vacuum (V) in teh range 25.36-81.56 cm Hg\n",
        "- Net hourly electrical energy output (EP) 420.26-495.76 MW\n",
        "The averages are taken from various sensors located around the plant that record the ambient variables every second. The variables are given without normalization.\n"
      ],
      "metadata": {
        "id": "rIkriqEcR_rt"
      }
    },
    {
      "cell_type": "code",
      "source": [
        "dataset = pd.read_excel('Folds5x2_pp.ods',engine='odf')\n",
        "print(dataset.info)\n",
        "X = dataset.iloc[:, :-1].values\n",
        "y = dataset.iloc[:, -1].values"
      ],
      "metadata": {
        "id": "bjcZIcZ2OYrS",
        "colab": {
          "base_uri": "https://localhost:8080/"
        },
        "outputId": "75d8786f-fa24-4d49-9624-73c52f65c0a4"
      },
      "execution_count": 8,
      "outputs": [
        {
          "output_type": "stream",
          "name": "stdout",
          "text": [
            "<bound method DataFrame.info of          AT      V       AP     RH      PE\n",
            "0     14.96  41.76  1024.07  73.17  463.26\n",
            "1     25.18  62.96  1020.04  59.08  444.37\n",
            "2      5.11  39.40  1012.16  92.14  488.56\n",
            "3     20.86  57.32  1010.24  76.64  446.48\n",
            "4     10.82  37.50  1009.23  96.62  473.90\n",
            "...     ...    ...      ...    ...     ...\n",
            "9563  16.65  49.69  1014.01  91.00  460.03\n",
            "9564  13.19  39.18  1023.67  66.78  469.62\n",
            "9565  31.32  74.33  1012.92  36.48  429.57\n",
            "9566  24.48  69.45  1013.86  62.39  435.74\n",
            "9567  21.60  62.52  1017.23  67.87  453.28\n",
            "\n",
            "[9568 rows x 5 columns]>\n"
          ]
        }
      ]
    },
    {
      "cell_type": "code",
      "source": [
        "X"
      ],
      "metadata": {
        "id": "bD4QlAAIOuMw",
        "colab": {
          "base_uri": "https://localhost:8080/"
        },
        "outputId": "dd8ffdda-eb06-4475-ac7a-b11328c5987d"
      },
      "execution_count": 5,
      "outputs": [
        {
          "output_type": "execute_result",
          "data": {
            "text/plain": [
              "array([[  14.96,   41.76, 1024.07,   73.17],\n",
              "       [  25.18,   62.96, 1020.04,   59.08],\n",
              "       [   5.11,   39.4 , 1012.16,   92.14],\n",
              "       ...,\n",
              "       [  31.32,   74.33, 1012.92,   36.48],\n",
              "       [  24.48,   69.45, 1013.86,   62.39],\n",
              "       [  21.6 ,   62.52, 1017.23,   67.87]])"
            ]
          },
          "metadata": {},
          "execution_count": 5
        }
      ]
    },
    {
      "cell_type": "code",
      "source": [
        "y"
      ],
      "metadata": {
        "id": "VLqilqX-Ou5S",
        "colab": {
          "base_uri": "https://localhost:8080/"
        },
        "outputId": "d741f86f-a7e9-4d65-90ca-cfdfb32c6c93"
      },
      "execution_count": 6,
      "outputs": [
        {
          "output_type": "execute_result",
          "data": {
            "text/plain": [
              "array([463.26, 444.37, 488.56, ..., 429.57, 435.74, 453.28])"
            ]
          },
          "metadata": {},
          "execution_count": 6
        }
      ]
    },
    {
      "cell_type": "markdown",
      "metadata": {
        "id": "VC6omXel_Up0"
      },
      "source": [
        "### Splitting the dataset into the Training set and Test set"
      ]
    },
    {
      "cell_type": "code",
      "source": [
        "from sklearn.model_selection import train_test_split\n",
        "x_train, x_test, y_train, y_test = train_test_split(X, y, test_size = 0.2, random_state = 0)"
      ],
      "metadata": {
        "id": "STMRYgEzQATa"
      },
      "execution_count": 9,
      "outputs": []
    },
    {
      "cell_type": "markdown",
      "source": [
        "**Feature Scaling**"
      ],
      "metadata": {
        "id": "RBG94P4hST1m"
      }
    },
    {
      "cell_type": "code",
      "source": [
        "from sklearn.preprocessing import StandardScaler\n",
        "sc = StandardScaler()\n",
        "x_train = sc.fit_transform(x_train)\n",
        "x_test = sc.transform(x_test)"
      ],
      "metadata": {
        "id": "q32-RBvtSZpC"
      },
      "execution_count": 19,
      "outputs": []
    },
    {
      "cell_type": "markdown",
      "metadata": {
        "id": "_mSLlAT9_eyI"
      },
      "source": [
        "## Part 2 - Building the ANN"
      ]
    },
    {
      "cell_type": "markdown",
      "metadata": {
        "id": "CsBULd_f_wLY"
      },
      "source": [
        "### Initializing the ANN"
      ]
    },
    {
      "cell_type": "code",
      "source": [
        "ann = tf.keras.models.Sequential()"
      ],
      "metadata": {
        "id": "WnGE_BXYS_zc"
      },
      "execution_count": 20,
      "outputs": []
    },
    {
      "cell_type": "markdown",
      "metadata": {
        "id": "iitAFJS_ABUn"
      },
      "source": [
        "### Adding the input layer and the first hidden layer"
      ]
    },
    {
      "cell_type": "code",
      "source": [
        "# dense creates fully connected 'dense' layers\n",
        "ann.add(tf.keras.layers.Dense(units=6, activation='relu'))"
      ],
      "metadata": {
        "id": "KkwWytuMT2jk"
      },
      "execution_count": 21,
      "outputs": []
    },
    {
      "cell_type": "markdown",
      "metadata": {
        "id": "-lb4kK_wAKbs"
      },
      "source": [
        "### Adding the second hidden layer"
      ]
    },
    {
      "cell_type": "code",
      "source": [
        "ann.add(tf.keras.layers.Dense(units=6, activation='relu'))"
      ],
      "metadata": {
        "id": "a83hlswWXf2s"
      },
      "execution_count": 22,
      "outputs": []
    },
    {
      "cell_type": "markdown",
      "metadata": {
        "id": "jwMOmKb3AdBY"
      },
      "source": [
        "### Adding the output layer"
      ]
    },
    {
      "cell_type": "code",
      "source": [
        "# regression => activation function = None\n",
        "ann.add(tf.keras.layers.Dense(units=1))"
      ],
      "metadata": {
        "id": "ccdFBzB5XrRs"
      },
      "execution_count": 23,
      "outputs": []
    },
    {
      "cell_type": "markdown",
      "metadata": {
        "id": "fq7e4fF6A1yy"
      },
      "source": [
        "## Part 3 - Training the ANN"
      ]
    },
    {
      "cell_type": "markdown",
      "metadata": {
        "id": "qDeylAs2An25"
      },
      "source": [
        "### Compiling the ANN"
      ]
    },
    {
      "cell_type": "code",
      "source": [
        "ann.compile(optimizer='adam', loss='mean_squared_error')"
      ],
      "metadata": {
        "id": "qXa8FE_iZA9p"
      },
      "execution_count": 24,
      "outputs": []
    },
    {
      "cell_type": "markdown",
      "metadata": {
        "id": "YjVuiybYOo7r"
      },
      "source": [
        "### Training the ANN model on the Training set"
      ]
    },
    {
      "cell_type": "code",
      "source": [
        "ann.fit(x_train, y_train, batch_size=32, epochs=100)"
      ],
      "metadata": {
        "colab": {
          "base_uri": "https://localhost:8080/"
        },
        "id": "fKtf2l05YvVf",
        "outputId": "6d4685d7-62ce-43bc-b43e-81aceb8205e4"
      },
      "execution_count": 25,
      "outputs": [
        {
          "output_type": "stream",
          "name": "stdout",
          "text": [
            "Epoch 1/100\n",
            "240/240 [==============================] - 1s 2ms/step - loss: 205277.7031\n",
            "Epoch 2/100\n",
            "240/240 [==============================] - 0s 2ms/step - loss: 198522.0625\n",
            "Epoch 3/100\n",
            "240/240 [==============================] - 0s 2ms/step - loss: 178481.3906\n",
            "Epoch 4/100\n",
            "240/240 [==============================] - 1s 2ms/step - loss: 141530.6250\n",
            "Epoch 5/100\n",
            "240/240 [==============================] - 0s 2ms/step - loss: 93657.1406\n",
            "Epoch 6/100\n",
            "240/240 [==============================] - 0s 2ms/step - loss: 53187.9609\n",
            "Epoch 7/100\n",
            "240/240 [==============================] - 0s 2ms/step - loss: 31614.8652\n",
            "Epoch 8/100\n",
            "240/240 [==============================] - 1s 2ms/step - loss: 23668.4141\n",
            "Epoch 9/100\n",
            "240/240 [==============================] - 1s 2ms/step - loss: 20039.8496\n",
            "Epoch 10/100\n",
            "240/240 [==============================] - 1s 2ms/step - loss: 17089.5137\n",
            "Epoch 11/100\n",
            "240/240 [==============================] - 1s 2ms/step - loss: 14178.0537\n",
            "Epoch 12/100\n",
            "240/240 [==============================] - 1s 2ms/step - loss: 11313.8047\n",
            "Epoch 13/100\n",
            "240/240 [==============================] - 1s 2ms/step - loss: 8596.3369\n",
            "Epoch 14/100\n",
            "240/240 [==============================] - 0s 2ms/step - loss: 6205.4233\n",
            "Epoch 15/100\n",
            "240/240 [==============================] - 0s 2ms/step - loss: 4283.3179\n",
            "Epoch 16/100\n",
            "240/240 [==============================] - 0s 2ms/step - loss: 2860.4941\n",
            "Epoch 17/100\n",
            "240/240 [==============================] - 1s 3ms/step - loss: 1894.4286\n",
            "Epoch 18/100\n",
            "240/240 [==============================] - 1s 3ms/step - loss: 1266.1805\n",
            "Epoch 19/100\n",
            "240/240 [==============================] - 1s 3ms/step - loss: 843.7274\n",
            "Epoch 20/100\n",
            "240/240 [==============================] - 1s 3ms/step - loss: 557.1487\n",
            "Epoch 21/100\n",
            "240/240 [==============================] - 1s 3ms/step - loss: 368.5895\n",
            "Epoch 22/100\n",
            "240/240 [==============================] - 1s 3ms/step - loss: 248.3154\n",
            "Epoch 23/100\n",
            "240/240 [==============================] - 1s 3ms/step - loss: 173.6656\n",
            "Epoch 24/100\n",
            "240/240 [==============================] - 1s 2ms/step - loss: 126.3626\n",
            "Epoch 25/100\n",
            "240/240 [==============================] - 1s 2ms/step - loss: 95.7498\n",
            "Epoch 26/100\n",
            "240/240 [==============================] - 1s 2ms/step - loss: 75.5824\n",
            "Epoch 27/100\n",
            "240/240 [==============================] - 1s 2ms/step - loss: 61.7006\n",
            "Epoch 28/100\n",
            "240/240 [==============================] - 1s 2ms/step - loss: 51.5499\n",
            "Epoch 29/100\n",
            "240/240 [==============================] - 1s 2ms/step - loss: 43.8434\n",
            "Epoch 30/100\n",
            "240/240 [==============================] - 1s 2ms/step - loss: 38.0923\n",
            "Epoch 31/100\n",
            "240/240 [==============================] - 1s 2ms/step - loss: 33.6341\n",
            "Epoch 32/100\n",
            "240/240 [==============================] - 1s 2ms/step - loss: 30.4346\n",
            "Epoch 33/100\n",
            "240/240 [==============================] - 1s 2ms/step - loss: 28.0885\n",
            "Epoch 34/100\n",
            "240/240 [==============================] - 1s 2ms/step - loss: 26.3827\n",
            "Epoch 35/100\n",
            "240/240 [==============================] - 1s 2ms/step - loss: 24.9676\n",
            "Epoch 36/100\n",
            "240/240 [==============================] - 1s 2ms/step - loss: 24.0480\n",
            "Epoch 37/100\n",
            "240/240 [==============================] - 1s 2ms/step - loss: 23.3181\n",
            "Epoch 38/100\n",
            "240/240 [==============================] - 1s 2ms/step - loss: 22.8394\n",
            "Epoch 39/100\n",
            "240/240 [==============================] - 0s 2ms/step - loss: 22.4149\n",
            "Epoch 40/100\n",
            "240/240 [==============================] - 0s 2ms/step - loss: 22.1323\n",
            "Epoch 41/100\n",
            "240/240 [==============================] - 1s 3ms/step - loss: 21.9043\n",
            "Epoch 42/100\n",
            "240/240 [==============================] - 1s 3ms/step - loss: 21.6915\n",
            "Epoch 43/100\n",
            "240/240 [==============================] - 1s 3ms/step - loss: 21.6268\n",
            "Epoch 44/100\n",
            "240/240 [==============================] - 1s 4ms/step - loss: 21.4969\n",
            "Epoch 45/100\n",
            "240/240 [==============================] - 1s 4ms/step - loss: 21.5532\n",
            "Epoch 46/100\n",
            "240/240 [==============================] - 1s 3ms/step - loss: 21.4603\n",
            "Epoch 47/100\n",
            "240/240 [==============================] - 1s 2ms/step - loss: 21.3609\n",
            "Epoch 48/100\n",
            "240/240 [==============================] - 1s 2ms/step - loss: 21.4033\n",
            "Epoch 49/100\n",
            "240/240 [==============================] - 1s 2ms/step - loss: 21.3122\n",
            "Epoch 50/100\n",
            "240/240 [==============================] - 1s 2ms/step - loss: 21.2208\n",
            "Epoch 51/100\n",
            "240/240 [==============================] - 1s 2ms/step - loss: 21.4053\n",
            "Epoch 52/100\n",
            "240/240 [==============================] - 1s 2ms/step - loss: 21.1414\n",
            "Epoch 53/100\n",
            "240/240 [==============================] - 1s 2ms/step - loss: 21.2704\n",
            "Epoch 54/100\n",
            "240/240 [==============================] - 1s 2ms/step - loss: 21.1141\n",
            "Epoch 55/100\n",
            "240/240 [==============================] - 1s 2ms/step - loss: 21.2149\n",
            "Epoch 56/100\n",
            "240/240 [==============================] - 1s 2ms/step - loss: 21.1920\n",
            "Epoch 57/100\n",
            "240/240 [==============================] - 1s 2ms/step - loss: 21.1575\n",
            "Epoch 58/100\n",
            "240/240 [==============================] - 1s 2ms/step - loss: 21.1699\n",
            "Epoch 59/100\n",
            "240/240 [==============================] - 1s 2ms/step - loss: 21.0236\n",
            "Epoch 60/100\n",
            "240/240 [==============================] - 1s 2ms/step - loss: 21.0481\n",
            "Epoch 61/100\n",
            "240/240 [==============================] - 1s 2ms/step - loss: 21.0427\n",
            "Epoch 62/100\n",
            "240/240 [==============================] - 1s 2ms/step - loss: 21.0561\n",
            "Epoch 63/100\n",
            "240/240 [==============================] - 1s 2ms/step - loss: 21.0630\n",
            "Epoch 64/100\n",
            "240/240 [==============================] - 1s 3ms/step - loss: 21.0610\n",
            "Epoch 65/100\n",
            "240/240 [==============================] - 1s 4ms/step - loss: 21.2204\n",
            "Epoch 66/100\n",
            "240/240 [==============================] - 1s 4ms/step - loss: 21.0142\n",
            "Epoch 67/100\n",
            "240/240 [==============================] - 1s 3ms/step - loss: 21.0238\n",
            "Epoch 68/100\n",
            "240/240 [==============================] - 1s 3ms/step - loss: 21.0790\n",
            "Epoch 69/100\n",
            "240/240 [==============================] - 1s 3ms/step - loss: 21.2507\n",
            "Epoch 70/100\n",
            "240/240 [==============================] - 0s 2ms/step - loss: 21.0681\n",
            "Epoch 71/100\n",
            "240/240 [==============================] - 0s 2ms/step - loss: 21.0351\n",
            "Epoch 72/100\n",
            "240/240 [==============================] - 0s 2ms/step - loss: 20.9417\n",
            "Epoch 73/100\n",
            "240/240 [==============================] - 0s 2ms/step - loss: 20.9984\n",
            "Epoch 74/100\n",
            "240/240 [==============================] - 0s 2ms/step - loss: 20.9039\n",
            "Epoch 75/100\n",
            "240/240 [==============================] - 0s 2ms/step - loss: 20.8978\n",
            "Epoch 76/100\n",
            "240/240 [==============================] - 0s 2ms/step - loss: 20.9015\n",
            "Epoch 77/100\n",
            "240/240 [==============================] - 0s 2ms/step - loss: 20.8274\n",
            "Epoch 78/100\n",
            "240/240 [==============================] - 0s 2ms/step - loss: 20.9736\n",
            "Epoch 79/100\n",
            "240/240 [==============================] - 0s 2ms/step - loss: 20.9515\n",
            "Epoch 80/100\n",
            "240/240 [==============================] - 0s 2ms/step - loss: 20.9476\n",
            "Epoch 81/100\n",
            "240/240 [==============================] - 1s 2ms/step - loss: 20.9435\n",
            "Epoch 82/100\n",
            "240/240 [==============================] - 1s 2ms/step - loss: 21.0160\n",
            "Epoch 83/100\n",
            "240/240 [==============================] - 1s 2ms/step - loss: 21.0538\n",
            "Epoch 84/100\n",
            "240/240 [==============================] - 0s 2ms/step - loss: 20.8830\n",
            "Epoch 85/100\n",
            "240/240 [==============================] - 0s 2ms/step - loss: 20.9593\n",
            "Epoch 86/100\n",
            "240/240 [==============================] - 0s 2ms/step - loss: 20.8745\n",
            "Epoch 87/100\n",
            "240/240 [==============================] - 0s 2ms/step - loss: 20.8843\n",
            "Epoch 88/100\n",
            "240/240 [==============================] - 0s 2ms/step - loss: 20.9533\n",
            "Epoch 89/100\n",
            "240/240 [==============================] - 1s 2ms/step - loss: 20.9359\n",
            "Epoch 90/100\n",
            "240/240 [==============================] - 1s 3ms/step - loss: 21.0009\n",
            "Epoch 91/100\n",
            "240/240 [==============================] - 1s 3ms/step - loss: 20.9644\n",
            "Epoch 92/100\n",
            "240/240 [==============================] - 1s 3ms/step - loss: 21.0294\n",
            "Epoch 93/100\n",
            "240/240 [==============================] - 1s 3ms/step - loss: 21.0073\n",
            "Epoch 94/100\n",
            "240/240 [==============================] - 1s 3ms/step - loss: 20.9329\n",
            "Epoch 95/100\n",
            "240/240 [==============================] - 1s 3ms/step - loss: 20.8169\n",
            "Epoch 96/100\n",
            "240/240 [==============================] - 1s 2ms/step - loss: 20.8440\n",
            "Epoch 97/100\n",
            "240/240 [==============================] - 1s 2ms/step - loss: 20.9175\n",
            "Epoch 98/100\n",
            "240/240 [==============================] - 1s 2ms/step - loss: 20.8585\n",
            "Epoch 99/100\n",
            "240/240 [==============================] - 1s 2ms/step - loss: 20.8656\n",
            "Epoch 100/100\n",
            "240/240 [==============================] - 1s 3ms/step - loss: 20.8109\n"
          ]
        },
        {
          "output_type": "execute_result",
          "data": {
            "text/plain": [
              "<keras.src.callbacks.History at 0x7a6eef592140>"
            ]
          },
          "metadata": {},
          "execution_count": 25
        }
      ]
    },
    {
      "cell_type": "markdown",
      "metadata": {
        "id": "0H0zKKNEBLD5"
      },
      "source": [
        "### Predicting the results of the Test set"
      ]
    },
    {
      "cell_type": "code",
      "source": [
        "y_pred = ann.predict(x_test)\n",
        "print(np.concatenate((y_test.reshape(-1, 1),y_pred.reshape(-1, 1)),axis = 1))"
      ],
      "metadata": {
        "colab": {
          "base_uri": "https://localhost:8080/"
        },
        "id": "nIus1yw_acoO",
        "outputId": "2044bcd5-d412-480a-9320-f7acc9c66bcd"
      },
      "execution_count": 26,
      "outputs": [
        {
          "output_type": "stream",
          "name": "stdout",
          "text": [
            "60/60 [==============================] - 0s 2ms/step\n",
            "[[431.23       432.08657837]\n",
            " [460.01       459.05892944]\n",
            " [461.14       463.08145142]\n",
            " ...\n",
            " [473.26       469.92636108]\n",
            " [438.         441.78805542]\n",
            " [463.28       461.17028809]]\n"
          ]
        }
      ]
    }
  ]
}